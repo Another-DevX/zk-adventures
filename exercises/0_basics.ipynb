{
 "cells": [
  {
   "cell_type": "markdown",
   "id": "6c816f33-764d-4716-8cd4-3dfaab642a4e",
   "metadata": {},
   "source": [
    "# Fields\n",
    "### Declaring a field"
   ]
  },
  {
   "cell_type": "code",
   "execution_count": 1,
   "id": "fc4fa509-30ee-4fb8-bb6f-3f0e7b7a0467",
   "metadata": {
    "vscode": {
     "languageId": "python"
    }
   },
   "outputs": [
    {
     "name": "stdout",
     "output_type": "stream",
     "text": [
      "F(10) 10\n",
      "F(31), F(5) = 0 , 30\n"
     ]
    },
    {
     "data": {
      "text/plain": [
       "10"
      ]
     },
     "execution_count": 1,
     "metadata": {},
     "output_type": "execute_result"
    }
   ],
   "source": [
    "F = GF(31)\n",
    "print(f\"F(10) { F(10) }\")\n",
    "print(f\"F(31), F(5) = {F(31)} , {F(-1)}\")\n",
    "F(5) + F(5)   # Outputs F(10)\n"
   ]
  },
  {
   "cell_type": "code",
   "execution_count": 2,
   "id": "b767fe73-4440-4351-b09b-06ee8f316d77",
   "metadata": {
    "vscode": {
     "languageId": "python"
    }
   },
   "outputs": [
    {
     "data": {
      "text/plain": [
       "5"
      ]
     },
     "execution_count": 2,
     "metadata": {},
     "output_type": "execute_result"
    }
   ],
   "source": [
    "F(31) + F(5)  # Outputs F(5)"
   ]
  },
  {
   "cell_type": "markdown",
   "id": "4d373f2d",
   "metadata": {},
   "source": []
  },
  {
   "cell_type": "markdown",
   "id": "66640bcc-550d-4094-be24-ba1b3d133044",
   "metadata": {},
   "source": [
    "# Polynomials\n",
    "### Declaring a polynomial ring"
   ]
  },
  {
   "cell_type": "code",
   "execution_count": 13,
   "id": "ddb5922b-e056-4c20-ad51-6a3be2fc2ce1",
   "metadata": {
    "vscode": {
     "languageId": "python"
    }
   },
   "outputs": [],
   "source": [
    "R = PolynomialRing(F,'x')\n",
    "x = R.gen()"
   ]
  },
  {
   "cell_type": "code",
   "execution_count": null,
   "id": "1508af4c",
   "metadata": {
    "vscode": {
     "languageId": "python"
    }
   },
   "outputs": [],
   "source": []
  },
  {
   "cell_type": "code",
   "execution_count": 14,
   "id": "4259ac79-049b-4773-9dc9-e81228e6f800",
   "metadata": {
    "vscode": {
     "languageId": "python"
    }
   },
   "outputs": [],
   "source": [
    "p = x**2 + 1"
   ]
  },
  {
   "cell_type": "markdown",
   "id": "5466de78-bdc2-4afc-85d4-9049046db353",
   "metadata": {},
   "source": [
    "### Evaluating a polynomial"
   ]
  },
  {
   "cell_type": "code",
   "execution_count": 5,
   "id": "6708e7eb-7222-4ad1-9be7-d9fae7cd7ac2",
   "metadata": {
    "vscode": {
     "languageId": "python"
    }
   },
   "outputs": [
    {
     "data": {
      "text/plain": [
       "(5, 10, 26)"
      ]
     },
     "execution_count": 5,
     "metadata": {},
     "output_type": "execute_result"
    }
   ],
   "source": [
    "p(2), p(3), p(5)"
   ]
  },
  {
   "cell_type": "markdown",
   "id": "1c3578a7-18c9-4d8f-861b-e15afab3b0ec",
   "metadata": {},
   "source": [
    "### Dividing 2 polynomials"
   ]
  },
  {
   "cell_type": "code",
   "execution_count": 6,
   "id": "31901496-83cf-430a-b2c0-a5956f299f60",
   "metadata": {
    "vscode": {
     "languageId": "python"
    }
   },
   "outputs": [
    {
     "data": {
      "text/plain": [
       "x + 30"
      ]
     },
     "execution_count": 6,
     "metadata": {},
     "output_type": "execute_result"
    }
   ],
   "source": [
    "p // (x + 1) # The result should be (x - 1), or (x + 30), that is the same over F_31."
   ]
  },
  {
   "cell_type": "markdown",
   "id": "5297b8af-0d47-4991-aec2-a35efc437147",
   "metadata": {},
   "source": [
    "#### Interpolating polynomials"
   ]
  },
  {
   "cell_type": "code",
   "execution_count": 7,
   "id": "090748cc-5612-4e7c-b855-de863c1ffed9",
   "metadata": {
    "vscode": {
     "languageId": "python"
    }
   },
   "outputs": [
    {
     "data": {
      "image/png": "[encoded data removed]",
      "text/plain": [
       "Graphics object consisting of 1 graphics primitive"
      ]
     },
     "metadata": {},
     "output_type": "display_data"
    }
   ],
   "source": [
    "q = R.lagrange_polynomial(points=[\n",
    "    (1, 2),\n",
    "    (2, 3),\n",
    "    (3, 2),\n",
    "])\n",
    "show(plot(q))"
   ]
  },
  {
   "cell_type": "markdown",
   "id": "2c1bdb89-1641-40e6-ad6b-955923cf8599",
   "metadata": {},
   "source": [
    "# Hashes"
   ]
  },
  {
   "cell_type": "code",
   "execution_count": 8,
   "id": "e7be2d61-f04a-4643-8cb2-10c353ed4600",
   "metadata": {
    "vscode": {
     "languageId": "python"
    }
   },
   "outputs": [],
   "source": [
    "from hashlib import sha3_256"
   ]
  },
  {
   "cell_type": "code",
   "execution_count": 9,
   "id": "c5febd87-b637-41df-81a8-689c0ddc1fff",
   "metadata": {
    "vscode": {
     "languageId": "python"
    }
   },
   "outputs": [],
   "source": [
    "hasher = sha3_256()"
   ]
  },
  {
   "cell_type": "code",
   "execution_count": 10,
   "id": "7863a9c6-0016-4978-8a60-ec61d228640b",
   "metadata": {
    "vscode": {
     "languageId": "python"
    }
   },
   "outputs": [],
   "source": [
    "hasher.update(b\"vivamessi\")"
   ]
  },
  {
   "cell_type": "code",
   "execution_count": 11,
   "id": "d0dac269-868d-4931-a50e-521da141f52c",
   "metadata": {
    "vscode": {
     "languageId": "python"
    }
   },
   "outputs": [
    {
     "data": {
      "text/plain": [
       "b'n\\xa5\\x92D)\\xa3C\\x02\\x85\\x10\\xfc\\x99\\xf4@\\x14LM\\x9eQ\\xa7w\\xde\\x16\\xf6_\\x87\"n\\xd9\\x89J\\x0e'"
      ]
     },
     "execution_count": 11,
     "metadata": {},
     "output_type": "execute_result"
    }
   ],
   "source": [
    "hasher.digest()"
   ]
  },
  {
   "cell_type": "code",
   "execution_count": 12,
   "id": "0ced35ca-97d6-4a10-913c-766914810313",
   "metadata": {
    "vscode": {
     "languageId": "python"
    }
   },
   "outputs": [
    {
     "data": {
      "text/plain": [
       "'6ea5924429a343028510fc99f440144c4d9e51a777de16f65f87226ed9894a0e'"
      ]
     },
     "execution_count": 12,
     "metadata": {},
     "output_type": "execute_result"
    }
   ],
   "source": [
    "hasher.hexdigest()"
   ]
  }
 ],
 "metadata": {
  "kernelspec": {
   "display_name": "SageMath 10.4",
   "language": "sage",
   "name": "sagemath"
  },
  "language_info": {
   "codemirror_mode": {
    "name": "ipython",
    "version": 3
   },
   "file_extension": ".py",
   "mimetype": "text/x-python",
   "name": "sage",
   "nbconvert_exporter": "python",
   "pygments_lexer": "ipython3",
   "version": "3.12.4"
  }
 },
 "nbformat": 4,
 "nbformat_minor": 5
}
