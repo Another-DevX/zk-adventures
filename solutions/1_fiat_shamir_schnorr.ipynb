{
 "cells": [
  {
   "cell_type": "markdown",
   "id": "cc76d938",
   "metadata": {},
   "source": [
    "# Transcript"
   ]
  },
  {
   "cell_type": "code",
   "execution_count": 1,
   "id": "906b05e4",
   "metadata": {},
   "outputs": [],
   "source": [
    "class Transcript:\n",
    "    def __init__(self, initialization_bytes: bytes):\n",
    "        raise NotImplementedError(\"subclass responsibility\")\n",
    "        \n",
    "    def append(self, bytes_to_append: bytes):\n",
    "        raise NotImplementedError(\"subclass responsibility\")\n",
    "    \n",
    "    def sample(self) -> bytes:\n",
    "        raise NotImplementedError(\"subclass responsibility\")\n"
   ]
  },
  {
   "cell_type": "code",
   "execution_count": 2,
   "id": "340f8f9a",
   "metadata": {},
   "outputs": [],
   "source": [
    "from hashlib import sha3_256\n",
    "\n",
    "class Sha3_256Transcript(Transcript):\n",
    "    def __init__(self, initialization_bytes: bytes):\n",
    "        \"\"\"Creates a new SHA3-256 hasher. Initializes it with `initialization_bytes`\"\"\"\n",
    "        self.hasher = sha3_256()\n",
    "        self.hasher.update(initialization_bytes)\n",
    "        \n",
    "    def append(self, bytes_to_append: bytes):\n",
    "        \"\"\"Updates the hasher with `bytes_to_append`\"\"\"\n",
    "        self.hasher.update(bytes_to_append)\n",
    "\n",
    "    def sample(self) -> bytes:\n",
    "        \"\"\"\n",
    "        The return value is the digest of the hasher.\n",
    "        Replaces the hasher with a fresh new one and initialized\n",
    "        with the return value of this function\n",
    "        \"\"\"\n",
    "        result = self.hasher.digest()\n",
    "        self.hasher = sha3_256()\n",
    "        self.hasher.update(result)\n",
    "        return result"
   ]
  },
  {
   "cell_type": "code",
   "execution_count": 3,
   "id": "5623f358",
   "metadata": {},
   "outputs": [],
   "source": [
    "# [TEST]\n",
    "transcript = Sha3_256Transcript(bytes.fromhex(\"cafecafe\"))\n",
    "transcript.append(bytes.fromhex(\"cccc\"))\n",
    "transcript.sample()\n",
    "transcript.append(bytes.fromhex(\"aaaa\"))\n",
    "transcript.append(bytes.fromhex(\"ffff\"))\n",
    "transcript.append(bytes.fromhex(\"eeee\"))\n",
    "assert(transcript.sample().hex() == \"a54c90f1ffbd6c11954078e13d226174fa76ac7e8ebd041a6e26a67fff283bbb\")\n",
    "assert(transcript.sample().hex() == \"f51b742ceda82332e600ad01f53d622210234062366d0fde02281753a3a57b2b\")\n",
    "assert(transcript.sample().hex() == \"a72992c579ef9296a4f80e98a378fb2d7c95ab5aa3451b1afa822f9c3aa73a91\")"
   ]
  },
  {
   "cell_type": "markdown",
   "id": "d2fc1d7c",
   "metadata": {},
   "source": [
    "### Schnorr Protocol for Discrete Log Knowledge Proof\n",
    "\n",
    "1. **Setup:**\n",
    "   - Alice generates a private key $a$ and computes her public key $A = g^a \\text{mod }p$, where:\n",
    "     - $p$ is a prime.\n",
    "     - $g$ is a generator of the units group $\\mathbb{F}_p^\\times$.     \n",
    "     \n",
    "     \n",
    "2. **Round 1**\n",
    "   - Alice chooses a random value $r$ from $[0, p-1)$.\n",
    "   - She computes $R = g^r \\,(\\text{mod } p)$.\n",
    "   - Alice sends $R$ to Bob.\n",
    "\n",
    "\n",
    "3. **Round 2:**\n",
    "   - Bob chooses a challenge $b$ randomly from $[0, p-1)$.\n",
    "   - Sends $b$ to Alice\n",
    "\n",
    "\n",
    "4. **Round 3:**\n",
    "   - Alice computes the response $s = r + ba \\,(\\text{mod }  p-1)$.\n",
    "   - Alice sends $s$ to Bob.\n",
    "\n",
    "\n",
    "5. **Verification:**\n",
    "   - Bob checks if $R \\cdot A^b$ equals $g^s$.\n",
    "   - If true, the verification is successful, and Alice proves she knows $a$.\n",
    "\n",
    "\n",
    "6. **Security Consideration:**\n",
    "   - To prevent replay attacks, Alice and Bob should use fresh nonces for each proof.\n",
    "   - The protocol is secure under the discrete logarithm assumption.\n"
   ]
  },
  {
   "cell_type": "markdown",
   "id": "42b9ea18",
   "metadata": {},
   "source": [
    "#### Diagram\n",
    "\n",
    "| Step  | Alice                                          | Bob                                            |\n",
    "|-------|------------------------------------------------|------------------------------------------------|\n",
    "| S1    |Chooses random $r$                        |                                                |\n",
    "|       |Computes $R = g^r$                                                 |                             |\n",
    "|       |Sends $R$ to Bob                                                |                              |\n",
    "| S2      |                                                |                       Chooses challenge $b$     |\n",
    "|       |                                                |                       Sends $b$ to Alice         |\n",
    "| S3  |    Computes $s = r + ba$ (mod $p-1$)      |                    |\n",
    "|       |    Sends `s` to Bob                                             |                             |\n",
    "| S4    |                   |   Checks $R\\cdot A^b$ equals $g^s$                                             |\n",
    "|       |           |      If true, verification successful                                          |\n",
    "|       |                                                |                                                |\n"
   ]
  },
  {
   "cell_type": "markdown",
   "id": "179e4f53",
   "metadata": {},
   "source": [
    "**Important: In what follows use the field `F` defined in the module `zk_adventures_types`**"
   ]
  },
  {
   "cell_type": "code",
   "execution_count": 4,
   "id": "2514f18f",
   "metadata": {},
   "outputs": [],
   "source": [
    "from zk_adventures_types import F"
   ]
  },
  {
   "cell_type": "code",
   "execution_count": 5,
   "id": "f13c30d7",
   "metadata": {},
   "outputs": [],
   "source": [
    "from dataclasses import dataclass\n",
    "    \n",
    "class Party:\n",
    "    def __init__(self, generator):\n",
    "        self._generator = generator   \n",
    "\n",
    "@dataclass\n",
    "class Proof:\n",
    "    R: int\n",
    "    s: int\n",
    "        \n",
    "class SchnorrProver(Party):\n",
    "    @staticmethod\n",
    "    def simulate_send_field_element(element: int, transcript: Transcript):\n",
    "        \"\"\" Appends the element's big endian representation to the transcript \"\"\"\n",
    "        prime_byte_length = ceil(len(bin(F.order())[2:]) / 8)\n",
    "        element_as_bytes = int(element).to_bytes(prime_byte_length, \"big\")\n",
    "        transcript.append(element_as_bytes)\n",
    "\n",
    "    def prove(self, a: int, transcript: Transcript):\n",
    "        r = randint(0, F.order() - 2)\n",
    "        R = pow(self._generator, r, F.order())\n",
    "        \n",
    "        # Fiat-Shamir simulated interactions\n",
    "        self.simulate_send_field_element(R, transcript)\n",
    "        b = SchnorrVerifier.simulate_choose_challenge(transcript)\n",
    "        \n",
    "        s = (r + a*b) % (F.order() - 1)\n",
    "        \n",
    "        return Proof(R=R, s=s)\n",
    "        \n",
    "class SchnorrVerifier(Party):\n",
    "    @staticmethod\n",
    "    def simulate_choose_challenge(transcript: Transcript):\n",
    "        \"\"\"\n",
    "        Samples bytes from the transcript.\n",
    "        Intereprets those bytes as an integer in big endian.\n",
    "        Returns that integer modulo `prime - 1`\n",
    "        \"\"\"\n",
    "        return int.from_bytes(transcript.sample(), \"big\") % (F.order() - 1)\n",
    "\n",
    "    def verify(self, A: int, proof: Proof, transcript: Transcript):\n",
    "        # Fiat-Shamir simulated interactions\n",
    "        SchnorrProver.simulate_send_field_element(proof.R, transcript)\n",
    "        b = self.simulate_choose_challenge(transcript)\n",
    "        \n",
    "        left_hand_side = (proof.R * pow(A, b, F.order())) % F.order()\n",
    "        right_hand_side = pow(self._generator, proof.s, F.order())\n",
    "        \n",
    "        return left_hand_side == right_hand_side"
   ]
  },
  {
   "cell_type": "code",
   "execution_count": 6,
   "id": "238e3355",
   "metadata": {},
   "outputs": [],
   "source": [
    "# [TEST]\n",
    "\n",
    "generator = F(3)\n",
    "assert generator.multiplicative_order() == F.order() - 1\n",
    "a = 0xcafe\n",
    "A = generator ** a\n",
    "\n",
    "# Transcript initialization nonce\n",
    "nonce = bytes.fromhex(\"deadbeef\") + int(A).to_bytes(3, \"big\")\n",
    "\n",
    "prover = SchnorrProver(generator)\n",
    "proof = prover.prove(a, Sha3_256Transcript(nonce))\n",
    "\n",
    "verifier = SchnorrVerifier(generator)\n",
    "assert verifier.verify(A, proof, Sha3_256Transcript(nonce))"
   ]
  },
  {
   "cell_type": "code",
   "execution_count": null,
   "id": "86a437a6",
   "metadata": {},
   "outputs": [],
   "source": []
  }
 ],
 "metadata": {
  "kernelspec": {
   "display_name": "SageMath 9.7",
   "language": "sage",
   "name": "sagemath"
  },
  "language_info": {
   "codemirror_mode": {
    "name": "ipython",
    "version": 3
   },
   "file_extension": ".py",
   "mimetype": "text/x-python",
   "name": "python",
   "nbconvert_exporter": "python",
   "pygments_lexer": "ipython3",
   "version": "3.10.5"
  }
 },
 "nbformat": 4,
 "nbformat_minor": 5
}
